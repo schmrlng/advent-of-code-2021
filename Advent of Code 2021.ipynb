{
 "cells": [
  {
   "cell_type": "markdown",
   "metadata": {},
   "source": [
    "## [Day 1: Sonar Sweep](https://adventofcode.com/2021/day/1)"
   ]
  },
  {
   "cell_type": "code",
   "execution_count": 1,
   "metadata": {},
   "outputs": [],
   "source": [
    "using DelimitedFiles"
   ]
  },
  {
   "cell_type": "code",
   "execution_count": 2,
   "metadata": {},
   "outputs": [
    {
     "data": {
      "text/plain": [
       "1709"
      ]
     },
     "execution_count": 2,
     "metadata": {},
     "output_type": "execute_result"
    }
   ],
   "source": [
    "depths = vec(readdlm(\"1.txt\", '\\n', Int))\n",
    "sum(diff(depths) .> 0)"
   ]
  },
  {
   "cell_type": "code",
   "execution_count": 3,
   "metadata": {},
   "outputs": [
    {
     "data": {
      "text/plain": [
       "1761"
      ]
     },
     "execution_count": 3,
     "metadata": {},
     "output_type": "execute_result"
    }
   ],
   "source": [
    "sum(diff(sum(depths[1+i:end-2+i] for i in 0:2)) .> 0)"
   ]
  },
  {
   "cell_type": "markdown",
   "metadata": {},
   "source": [
    "## [Day 2: Dive!](https://adventofcode.com/2021/day/2)"
   ]
  },
  {
   "cell_type": "code",
   "execution_count": 4,
   "metadata": {},
   "outputs": [],
   "source": [
    "using DelimitedFiles"
   ]
  },
  {
   "cell_type": "code",
   "execution_count": 5,
   "metadata": {},
   "outputs": [
    {
     "data": {
      "text/plain": [
       "1580000"
      ]
     },
     "execution_count": 5,
     "metadata": {},
     "output_type": "execute_result"
    }
   ],
   "source": [
    "commands = readdlm(\"2.txt\")\n",
    "forward_indices = commands[:, 1] .== \"forward\"\n",
    "up_indices = commands[:, 1] .== \"up\"\n",
    "down_indices = commands[:, 1] .== \"down\"\n",
    "sum(commands[forward_indices, 2]) * (sum(commands[down_indices, 2]) - sum(commands[up_indices, 2]))"
   ]
  },
  {
   "cell_type": "code",
   "execution_count": 6,
   "metadata": {},
   "outputs": [
    {
     "data": {
      "text/plain": [
       "1251263225"
      ]
     },
     "execution_count": 6,
     "metadata": {},
     "output_type": "execute_result"
    }
   ],
   "source": [
    "position = depth = aim = 0\n",
    "for i in 1:size(commands, 1)\n",
    "    x = commands[i, 2]\n",
    "    if commands[i] == \"up\"\n",
    "        aim -= x\n",
    "    elseif commands[i] == \"down\"\n",
    "        aim += x\n",
    "    else\n",
    "        position += x\n",
    "        depth += aim * x\n",
    "    end\n",
    "end\n",
    "position * depth"
   ]
  },
  {
   "cell_type": "markdown",
   "metadata": {},
   "source": [
    "## [Day 3: Binary Diagnostic](https://adventofcode.com/2021/day/3)"
   ]
  },
  {
   "cell_type": "code",
   "execution_count": 7,
   "metadata": {},
   "outputs": [
    {
     "data": {
      "text/plain": [
       "1092896"
      ]
     },
     "execution_count": 7,
     "metadata": {},
     "output_type": "execute_result"
    }
   ],
   "source": [
    "bits = parse.(Bool, hcat(collect.(readlines(\"3.txt\"))...))\n",
    "gamma_digits = vec(sum(bits, dims = 2)) .> size(bits, 2) / 2\n",
    "beta_digits = 1 .- gamma_digits\n",
    "binary_digits_to_int(v) = sum(2^(i - 1) * d for (i, d) in enumerate(reverse(v)))\n",
    "\n",
    "binary_digits_to_int(gamma_digits) * binary_digits_to_int(beta_digits)"
   ]
  },
  {
   "cell_type": "code",
   "execution_count": 8,
   "metadata": {},
   "outputs": [
    {
     "data": {
      "text/plain": [
       "4672151"
      ]
     },
     "execution_count": 8,
     "metadata": {},
     "output_type": "execute_result"
    }
   ],
   "source": [
    "function rating(bits, oxygen = true)\n",
    "    for i in 1:size(bits, 1)\n",
    "        if oxygen == (sum(bits[i, :]) >= size(bits, 2) / 2)\n",
    "            bits = bits[:, bits[i, :]]\n",
    "        else\n",
    "            bits = bits[:, .!bits[i, :]]\n",
    "        end\n",
    "        if size(bits, 2) == 1\n",
    "            return binary_digits_to_int(vec(bits))\n",
    "        end\n",
    "    end\n",
    "end\n",
    "\n",
    "rating(bits) * rating(bits, false)"
   ]
  },
  {
   "cell_type": "markdown",
   "metadata": {},
   "source": [
    "## [Day 4: Giant Squid](https://adventofcode.com/2021/day/4)"
   ]
  },
  {
   "cell_type": "code",
   "execution_count": 9,
   "metadata": {},
   "outputs": [],
   "source": [
    "using DelimitedFiles"
   ]
  },
  {
   "cell_type": "code",
   "execution_count": 10,
   "metadata": {},
   "outputs": [
    {
     "data": {
      "text/plain": [
       "(25023, 2634)"
      ]
     },
     "execution_count": 10,
     "metadata": {},
     "output_type": "execute_result"
    }
   ],
   "source": [
    "input_4 = readdlm(\"4.txt\")\n",
    "numbers = parse.(Int, split(input_4[1], ','))\n",
    "boards = permutedims(reshape(Int.(input_4[2:end, :]), 5, :, 5), (1, 3, 2))\n",
    "is_winning(board) = any(all(board .< 0, dims = 1)) || any(all(board .< 0, dims = 2))\n",
    "\n",
    "function bingo(numbers, boards, first_or_last = :first)\n",
    "    boards = copy(boards)\n",
    "    chosen_board = nothing\n",
    "    for (round, i) in enumerate(numbers)\n",
    "        boards[boards.==i] .= -round\n",
    "        winners = [is_winning(boards[:, :, j]) for j in 1:size(boards, 3)]\n",
    "        if first_or_last === :first\n",
    "            winner = findfirst(winners)\n",
    "            if winner !== nothing\n",
    "                chosen_board = boards[:, :, winner]\n",
    "                return i * sum(chosen_board[chosen_board.>=0])\n",
    "            end\n",
    "        else\n",
    "            if length(winners) == 1 && only(winners)\n",
    "                return i * sum(boards[boards.>=0])\n",
    "            else\n",
    "                boards = boards[:, :, .!winners]\n",
    "            end\n",
    "        end\n",
    "    end\n",
    "end\n",
    "\n",
    "bingo(numbers, boards, :first), bingo(numbers, boards, :last)"
   ]
  },
  {
   "cell_type": "markdown",
   "metadata": {},
   "source": [
    "## [Day 5: Hydrothermal Venture](https://adventofcode.com/2021/day/5)"
   ]
  },
  {
   "cell_type": "code",
   "execution_count": 11,
   "metadata": {},
   "outputs": [
    {
     "data": {
      "text/plain": [
       "(7644, 18627)"
      ]
     },
     "execution_count": 11,
     "metadata": {},
     "output_type": "execute_result"
    }
   ],
   "source": [
    "lines =\n",
    "    reshape(\n",
    "        hcat([parse.(Int, line[[1, 2, 4, 5]]) for line in split.(readlines(\"5.txt\"), ((',', ' '),))]...),\n",
    "        (2, 2, :),\n",
    "    ) .+ 1\n",
    "\n",
    "function count_overlaps(lines, include_diagonals = false)\n",
    "    vents = zeros(Int, maximum(lines[1, :, :]), maximum(lines[2, :, :]))\n",
    "    for i in 1:size(lines, 3)\n",
    "        x1, y1, x2, y2 = lines[:, :, i]\n",
    "        if x1 == x2\n",
    "            vents[x1, range(minmax(y1, y2)...)] .+= 1\n",
    "        elseif y1 == y2\n",
    "            vents[range(minmax(x1, x2)...), y2] .+= 1\n",
    "        elseif include_diagonals && abs(x1 - x2) == abs(y1 - y2)\n",
    "            for (x, y) in zip(x1:(x1 <= x2 ? 1 : -1):x2, y1:(y1 <= y2 ? 1 : -1):y2)\n",
    "                vents[x, y] += 1\n",
    "            end\n",
    "        end\n",
    "    end\n",
    "    sum(vents .>= 2)\n",
    "end\n",
    "\n",
    "count_overlaps(lines), count_overlaps(lines, true)"
   ]
  },
  {
   "cell_type": "markdown",
   "metadata": {},
   "source": [
    "## [Day 6: Lanternfish](https://adventofcode.com/2021/day/6)"
   ]
  },
  {
   "cell_type": "code",
   "execution_count": 12,
   "metadata": {},
   "outputs": [],
   "source": [
    "using StatsBase"
   ]
  },
  {
   "cell_type": "code",
   "execution_count": 13,
   "metadata": {},
   "outputs": [
    {
     "data": {
      "text/plain": [
       "(345793, 1572643095893)"
      ]
     },
     "execution_count": 13,
     "metadata": {},
     "output_type": "execute_result"
    }
   ],
   "source": [
    "fish = parse.(Int, split(readline(\"6.txt\"), ','))\n",
    "population = counts(fish, 0:8)\n",
    "\n",
    "function evolve_population(population, steps)\n",
    "    population = copy(population)\n",
    "    for t in 1:steps\n",
    "        new_fish = population[1]\n",
    "        population[1:8] .= population[2:9]\n",
    "        population[7] += new_fish\n",
    "        population[9] = new_fish\n",
    "    end\n",
    "    population\n",
    "end\n",
    "\n",
    "sum(evolve_population(population, 80)), sum(evolve_population(population, 256))"
   ]
  },
  {
   "cell_type": "markdown",
   "metadata": {},
   "source": [
    "## [Day 7: The Treachery of Whales](https://adventofcode.com/2021/day/7)"
   ]
  },
  {
   "cell_type": "code",
   "execution_count": 14,
   "metadata": {},
   "outputs": [
    {
     "data": {
      "text/plain": [
       "356958.0"
      ]
     },
     "execution_count": 14,
     "metadata": {},
     "output_type": "execute_result"
    }
   ],
   "source": [
    "crabs = parse.(Int, split(readline(\"7.txt\"), ','))\n",
    "sum(abs.(crabs .- median(crabs)))"
   ]
  },
  {
   "cell_type": "code",
   "execution_count": 15,
   "metadata": {},
   "outputs": [
    {
     "data": {
      "text/plain": [
       "105461913"
      ]
     },
     "execution_count": 15,
     "metadata": {},
     "output_type": "execute_result"
    }
   ],
   "source": [
    "function minimize_quadratic_crab_fuel(crabs)\n",
    "    num_crabs = length(crabs)\n",
    "    x = m = mean(crabs)\n",
    "    while true\n",
    "        new_x = m - sum(sign.(x .- crabs)) / (2 * num_crabs)\n",
    "        new_x == x && break\n",
    "        x = new_x\n",
    "    end\n",
    "    total_fuel(x) = sum((y -> y * (y + 1) ÷ 2).(abs.(crabs .- floor(x))))\n",
    "    min(total_fuel.((floor(Int, x), ceil(Int, x)))...)\n",
    "end\n",
    "\n",
    "minimize_quadratic_crab_fuel(crabs)"
   ]
  },
  {
   "cell_type": "markdown",
   "metadata": {},
   "source": [
    "## [Day 8: Seven Segment Search](https://adventofcode.com/2021/day/8)"
   ]
  },
  {
   "cell_type": "code",
   "execution_count": 16,
   "metadata": {},
   "outputs": [],
   "source": [
    "using DelimitedFiles"
   ]
  },
  {
   "cell_type": "code",
   "execution_count": 17,
   "metadata": {},
   "outputs": [
    {
     "name": "stdout",
     "output_type": "stream",
     "text": [
      "sum(all_digits, dims = 1) = [6 2 5 5 4 5 6 3 7 6]\n",
      "sum(all_digits, dims = 2) = [8; 6; 8; 7; 4; 9; 7;;]\n"
     ]
    },
    {
     "data": {
      "text/plain": [
       "539"
      ]
     },
     "execution_count": 17,
     "metadata": {},
     "output_type": "execute_result"
    }
   ],
   "source": [
    "input_8 = permutedims(readdlm(\"8.txt\"))\n",
    "all_digits = Bool[\n",
    "    1 0 1 1 0 1 1 1 1 1\n",
    "    1 0 0 0 1 1 1 0 1 1\n",
    "    1 1 1 1 1 0 0 1 1 1\n",
    "    0 0 1 1 1 1 1 0 1 1\n",
    "    1 0 1 0 0 0 1 0 1 0\n",
    "    1 1 0 1 1 1 1 1 1 1\n",
    "    1 0 1 1 0 1 1 0 1 1\n",
    "]\n",
    "@show sum(all_digits, dims = 1)\n",
    "@show sum(all_digits, dims = 2)\n",
    "digits_patterns = input_8[1:10, :]\n",
    "output_patterns = input_8[end-3:end, :]\n",
    "\n",
    "function patterns_to_vectors(patterns)\n",
    "    vectors = zeros(Bool, 7, size(patterns)...)\n",
    "    for i in CartesianIndices(patterns)\n",
    "        for c in patterns[i]\n",
    "            vectors[Int(c)-96, i] = true\n",
    "        end\n",
    "    end\n",
    "    vectors\n",
    "end\n",
    "\n",
    "digits_vectors = patterns_to_vectors(digits_patterns)\n",
    "output_vectors = patterns_to_vectors(output_patterns)\n",
    "\n",
    "sum(sum(sum(output_vectors, dims = 1) .== n) for n in sum(all_digits[:, [1, 4, 7, 8].+1], dims = 1))"
   ]
  },
  {
   "cell_type": "code",
   "execution_count": 18,
   "metadata": {},
   "outputs": [
    {
     "data": {
      "text/plain": [
       "1084606"
      ]
     },
     "execution_count": 18,
     "metadata": {},
     "output_type": "execute_result"
    }
   ],
   "source": [
    "function decode(digits_vectors)\n",
    "    n_by_digit = vec(sum(digits_vectors, dims = 1))\n",
    "    n_by_segment = vec(sum(digits_vectors, dims = 2))\n",
    "\n",
    "    segments = zeros(Int, 7)\n",
    "    segments[2] = findfirst(n_by_segment .== 6)\n",
    "    segments[5] = findfirst(n_by_segment .== 4)\n",
    "    segments[6] = findfirst(n_by_segment .== 9)\n",
    "    d1 = findfirst(n_by_digit .== 2)\n",
    "    d4 = findfirst(n_by_digit .== 4)\n",
    "    d7 = findfirst(n_by_digit .== 3)\n",
    "    segments[1] = findfirst(digits_vectors[:, d1] .⊻ digits_vectors[:, d7])\n",
    "    sc = findfirst(digits_vectors[:, d1])\n",
    "    segments[3] = sc == segments[6] ? findnext(digits_vectors[:, d1], sc + 1) : sc\n",
    "    b_and_d = digits_vectors[:, d1] .⊻ digits_vectors[:, d4]\n",
    "    sd = findfirst(b_and_d)\n",
    "    segments[4] = any(segments .== sd) ? findnext(b_and_d, sd + 1) : sd\n",
    "    segments[7] = 28 - sum(segments)\n",
    "    segments\n",
    "end\n",
    "\n",
    "\n",
    "vector_to_digit_map = Dict(all_digits[:, i] => i - 1 for i in 1:10)\n",
    "total = 0\n",
    "for i in 1:size(output_vectors, 3)\n",
    "    output = output_vectors[decode(digits_vectors[:, :, i]), :, i]\n",
    "    total += sum(vector_to_digit_map[output[:, i]] * 10^(4 - i) for i in 1:4)\n",
    "end\n",
    "total"
   ]
  },
  {
   "cell_type": "markdown",
   "metadata": {},
   "source": [
    "## [Day 9: Smoke Basin](https://adventofcode.com/2021/day/9)"
   ]
  },
  {
   "cell_type": "code",
   "execution_count": 19,
   "metadata": {},
   "outputs": [
    {
     "data": {
      "text/plain": [
       "572"
      ]
     },
     "execution_count": 19,
     "metadata": {},
     "output_type": "execute_result"
    }
   ],
   "source": [
    "heightmap = parse.(Int, hcat(collect.(readlines(\"9.txt\"))...))\n",
    "grid_neighbors = (CartesianIndex(1, 0), CartesianIndex(-1, 0), CartesianIndex(0, 1), CartesianIndex(0, -1))\n",
    "\n",
    "total = 0\n",
    "for I in CartesianIndices(heightmap)\n",
    "    level = heightmap[I]\n",
    "    if all(level < heightmap[I+II] for II in grid_neighbors if I + II in CartesianIndices(heightmap))\n",
    "        total += level + 1\n",
    "    end\n",
    "end\n",
    "total"
   ]
  },
  {
   "cell_type": "code",
   "execution_count": 20,
   "metadata": {},
   "outputs": [
    {
     "data": {
      "text/plain": [
       "847044"
      ]
     },
     "execution_count": 20,
     "metadata": {},
     "output_type": "execute_result"
    }
   ],
   "source": [
    "function compute_basin_sizes(heightmap)\n",
    "    heightmap = copy(heightmap)\n",
    "    basin_sizes = Int[]\n",
    "    while ((I = findfirst(heightmap .< 9)) !== nothing)\n",
    "        queue = [I]\n",
    "        count = 0\n",
    "        while !isempty(queue)\n",
    "            I = pop!(queue)\n",
    "            heightmap[I] == 9 && continue\n",
    "            heightmap[I] = 9\n",
    "            count += 1\n",
    "            for II in grid_neighbors\n",
    "                if I + II in CartesianIndices(heightmap)\n",
    "                    push!(queue, I + II)\n",
    "                end\n",
    "            end\n",
    "        end\n",
    "        push!(basin_sizes, count)\n",
    "    end\n",
    "    sort(basin_sizes)\n",
    "end\n",
    "\n",
    "prod(compute_basin_sizes(heightmap)[end-2:end])"
   ]
  },
  {
   "cell_type": "markdown",
   "metadata": {},
   "source": [
    "## [Day 10: Syntax Scoring](https://adventofcode.com/2021/day/10)"
   ]
  },
  {
   "cell_type": "code",
   "execution_count": 21,
   "metadata": {},
   "outputs": [
    {
     "data": {
      "text/plain": [
       "345441"
      ]
     },
     "execution_count": 21,
     "metadata": {},
     "output_type": "execute_result"
    }
   ],
   "source": [
    "lines = readlines(\"10.txt\")\n",
    "\n",
    "lr_map = Dict('(' => ')', '[' => ']', '{' => '}', '<' => '>')\n",
    "function find_first_illegal_character(line)\n",
    "    stack = Char[]\n",
    "    for c in line\n",
    "        if c in keys(lr_map)\n",
    "            push!(stack, lr_map[c])\n",
    "        else\n",
    "            r = pop!(stack)\n",
    "            c != r && return c\n",
    "        end\n",
    "    end\n",
    "end\n",
    "\n",
    "score = Dict(')' => 3, ']' => 57, '}' => 1197, '>' => 25137)\n",
    "sum(lines) do l\n",
    "    c = find_first_illegal_character(l)\n",
    "    c === nothing ? 0 : score[c]\n",
    "end"
   ]
  },
  {
   "cell_type": "code",
   "execution_count": 22,
   "metadata": {},
   "outputs": [
    {
     "data": {
      "text/plain": [
       "3235371166"
      ]
     },
     "execution_count": 22,
     "metadata": {},
     "output_type": "execute_result"
    }
   ],
   "source": [
    "function completion_score(line)\n",
    "    r_score = Dict(')' => 1, ']' => 2, '}' => 3, '>' => 4)\n",
    "    stack = Char[]\n",
    "    for c in line\n",
    "        if c in keys(lr_map)\n",
    "            push!(stack, lr_map[c])\n",
    "        else\n",
    "            r = pop!(stack)\n",
    "            c != r && return 0\n",
    "        end\n",
    "    end\n",
    "\n",
    "    score = 0\n",
    "    while !isempty(stack)\n",
    "        score = 5 * score + r_score[pop!(stack)]\n",
    "    end\n",
    "    score\n",
    "end\n",
    "\n",
    "Int(median(filter(!iszero, [completion_score(l) for l in lines])))"
   ]
  },
  {
   "cell_type": "markdown",
   "metadata": {},
   "source": [
    "## [Day 11: Dumbo Octopus](https://adventofcode.com/2021/day/11)"
   ]
  },
  {
   "cell_type": "code",
   "execution_count": 23,
   "metadata": {},
   "outputs": [
    {
     "data": {
      "text/plain": [
       "1661"
      ]
     },
     "execution_count": 23,
     "metadata": {},
     "output_type": "execute_result"
    }
   ],
   "source": [
    "octopi = parse.(Int, hcat(collect.(readlines(\"11.txt\"))...))\n",
    "\n",
    "function octopus_step!(octopi)\n",
    "    octopi .+= 1\n",
    "    keep_checking = true\n",
    "    while keep_checking\n",
    "        keep_checking = false\n",
    "        for I in CartesianIndices(octopi)\n",
    "            if octopi[I] > 9\n",
    "                octopi[I] = 0\n",
    "                for N in CartesianIndices((-1:1, -1:1))\n",
    "                    if I + N in CartesianIndices(octopi) && octopi[I+N] > 0\n",
    "                        octopi[I+N] += 1\n",
    "                    end\n",
    "                end\n",
    "                keep_checking = true\n",
    "            end\n",
    "        end\n",
    "    end\n",
    "    octopi\n",
    "end\n",
    "\n",
    "function total_flashes(octopi, steps)\n",
    "    octopi = copy(octopi)\n",
    "    total = 0\n",
    "    for _ in 1:100\n",
    "        total += sum(octopus_step!(octopi) .== 0)\n",
    "    end\n",
    "    total\n",
    "end\n",
    "\n",
    "total_flashes(octopi, 100)"
   ]
  },
  {
   "cell_type": "code",
   "execution_count": 24,
   "metadata": {},
   "outputs": [
    {
     "data": {
      "text/plain": [
       "334"
      ]
     },
     "execution_count": 24,
     "metadata": {},
     "output_type": "execute_result"
    }
   ],
   "source": [
    "function first_simultaneous_flash(octopi)\n",
    "    octopi = copy(octopi)\n",
    "    for t in 1:1000\n",
    "        octopus_step!(octopi)\n",
    "        all(octopi .== 0) && return t\n",
    "    end\n",
    "end\n",
    "\n",
    "first_simultaneous_flash(octopi)"
   ]
  },
  {
   "cell_type": "markdown",
   "metadata": {},
   "source": [
    "## [Day 12: Passage Pathing](https://adventofcode.com/2021/day/12)"
   ]
  },
  {
   "cell_type": "code",
   "execution_count": 25,
   "metadata": {},
   "outputs": [
    {
     "data": {
      "text/plain": [
       "(3421, 84870)"
      ]
     },
     "execution_count": 25,
     "metadata": {},
     "output_type": "execute_result"
    }
   ],
   "source": [
    "edges = split.(readlines(\"12.txt\"), '-')\n",
    "\n",
    "function cave_paths(edges, allow_single_small_cave_twice = false)\n",
    "    all_caves = unique(vcat(edges...))\n",
    "    small_caves = Dict(reverse.(enumerate(filter(x -> islowercase(x[1]), all_caves))))\n",
    "    large_caves = Dict(reverse.(enumerate(filter(x -> isuppercase(x[1]), all_caves))))\n",
    "    start_index, end_index = small_caves[\"start\"], small_caves[\"end\"]\n",
    "\n",
    "    small_large = zeros(Int, length(small_caves), length(large_caves))\n",
    "    small_small = zeros(Int, length(small_caves), length(small_caves))\n",
    "    for e in edges\n",
    "        a, b = minmax(e...)\n",
    "        if isuppercase(a[1])\n",
    "            small_large[small_caves[b], large_caves[a]] += 1\n",
    "        else\n",
    "            small_small[small_caves[a], small_caves[b]] += 1\n",
    "            small_small[small_caves[b], small_caves[a]] += 1\n",
    "        end\n",
    "    end\n",
    "    small_small += small_large * small_large'\n",
    "\n",
    "    total = 0\n",
    "    paths = [(1, false, [start_index])]\n",
    "    while !isempty(paths)\n",
    "        n, small_cave_twice, path = pop!(paths)\n",
    "        v = path[end]\n",
    "        for w in 1:length(small_caves)\n",
    "            w_in_path = w in path\n",
    "            if w != start_index &&\n",
    "               small_small[v, w] > 0 &&\n",
    "               (!w_in_path || (allow_single_small_cave_twice && !small_cave_twice))\n",
    "                if w == end_index\n",
    "                    path, n * small_small[v, w]\n",
    "                    total += n * small_small[v, w]\n",
    "                else\n",
    "                    push!(paths, (n * small_small[v, w], small_cave_twice || w_in_path, [path; [w]]))\n",
    "                end\n",
    "            end\n",
    "        end\n",
    "    end\n",
    "    total\n",
    "end\n",
    "\n",
    "cave_paths(edges), cave_paths(edges, true)"
   ]
  },
  {
   "cell_type": "markdown",
   "metadata": {},
   "source": [
    "## [Day 13: Transparent Origami](https://adventofcode.com/2021/day/13)"
   ]
  },
  {
   "cell_type": "code",
   "execution_count": 26,
   "metadata": {},
   "outputs": [],
   "source": [
    "using SparseArrays"
   ]
  },
  {
   "cell_type": "code",
   "execution_count": 27,
   "metadata": {},
   "outputs": [
    {
     "name": "stdout",
     "output_type": "stream",
     "text": [
      "length(points) = 693\n",
      "length(points) = 574\n",
      "length(points) = 476\n",
      "length(points) = 397\n",
      "length(points) = 332\n",
      "length(points) = 282\n",
      "length(points) = 242\n",
      "length(points) = 206\n",
      "length(points) = 176\n",
      "length(points) = 147\n",
      "length(points) = 121\n",
      "length(points) = 95\n"
     ]
    },
    {
     "data": {
      "text/plain": [
       "6×39 SparseMatrixCSC{Int64, Int64} with 95 stored entries:\n",
       "⡇⢸⢰⠉⠂⡇⠀⠈⡩⠃⣏⡱⢰⣉⡆⢉⠝⢸⠀⡇\n",
       "⠑⠊⠈⠒⠁⠓⠒⠘⠒⠂⠃⠑⠘⠀⠃⠓⠒⠈⠒⠁"
      ]
     },
     "execution_count": 27,
     "metadata": {},
     "output_type": "execute_result"
    }
   ],
   "source": [
    "input_13 = readlines(\"13.txt\")\n",
    "blank_line_index = findfirst(==(\"\"), input_13)\n",
    "points = (x -> tuple(parse.(Int, x)...)).(split.(input_13[1:blank_line_index-1], ','))\n",
    "folds = input_13[blank_line_index+1:end]\n",
    "\n",
    "fold_along_x(points, x) = unique([(a < x ? a : 2 * x - a, b) for (a, b) in points])\n",
    "fold_along_y(points, y) = unique([(a, b < y ? b : 2 * y - b) for (a, b) in points])\n",
    "\n",
    "function apply_folds(points, folds)\n",
    "    for f in folds\n",
    "        if startswith(f, \"fold along x=\")\n",
    "            points = fold_along_x(points, parse(Int, f[14:end]))\n",
    "        else\n",
    "            points = fold_along_y(points, parse(Int, f[14:end]))\n",
    "        end\n",
    "        @show length(points)\n",
    "    end\n",
    "\n",
    "    sparse(last.(points) .+ 1, first.(points) .+ 1, 1)\n",
    "end\n",
    "\n",
    "apply_folds(points, folds)"
   ]
  },
  {
   "cell_type": "markdown",
   "metadata": {},
   "source": [
    "## [Day 14: Extended Polymerization](https://adventofcode.com/2021/day/14)"
   ]
  },
  {
   "cell_type": "code",
   "execution_count": 28,
   "metadata": {},
   "outputs": [],
   "source": [
    "using StatsBase"
   ]
  },
  {
   "cell_type": "code",
   "execution_count": 29,
   "metadata": {},
   "outputs": [
    {
     "data": {
      "text/plain": [
       "(3118, 4332887448171)"
      ]
     },
     "execution_count": 29,
     "metadata": {},
     "output_type": "execute_result"
    }
   ],
   "source": [
    "input_14 = readlines(\"14.txt\")\n",
    "template = input_14[1]\n",
    "rules = Dict(l[1:2] => (l[1] * l[7], l[7] * l[2]) for l in input_14[3:end])\n",
    "\n",
    "function apply_rules(pair_counts, rules)\n",
    "    foldl(mergewith!(+), (Dict(rules[p][i] => c) for (p, c) in pair_counts for i in 1:2); init = typeof(pair_counts)())\n",
    "end\n",
    "\n",
    "function character_count_difference(template, rules, steps = 10)\n",
    "    pair_counts = Dict{String,Int}(countmap(template[i:i+1] for i in 1:length(template)-1))\n",
    "    pair_counts = foldl((pc, i) -> apply_rules(pc, rules), 1:steps; init = pair_counts)\n",
    "    char_counts =\n",
    "        foldl(mergewith!(+), (Dict(p[i] => c) for (p, c) in pair_counts for i in 1:2); init = Dict{Char,Int}())\n",
    "    char_counts[template[1]] += 1\n",
    "    char_counts[template[end]] += 1\n",
    "    map!(x -> x ÷ 2, values(char_counts))\n",
    "    maximum(values(char_counts)) - minimum(values(char_counts))\n",
    "end\n",
    "\n",
    "character_count_difference(template, rules), character_count_difference(template, rules, 40)"
   ]
  },
  {
   "cell_type": "markdown",
   "metadata": {},
   "source": [
    "## [Day 15: Chiton](https://adventofcode.com/2021/day/15)"
   ]
  },
  {
   "cell_type": "code",
   "execution_count": 30,
   "metadata": {},
   "outputs": [],
   "source": [
    "using DataStructures"
   ]
  },
  {
   "cell_type": "code",
   "execution_count": 31,
   "metadata": {},
   "outputs": [
    {
     "data": {
      "text/plain": [
       "(390, 2814)"
      ]
     },
     "execution_count": 31,
     "metadata": {},
     "output_type": "execute_result"
    }
   ],
   "source": [
    "grid = parse.(Int, hcat(collect.(readlines(\"15.txt\"))...))\n",
    "\n",
    "function min_risk_path(grid)\n",
    "    neighbors = CartesianIndex.(((1, 0), (-1, 0), (0, 1), (0, -1)))\n",
    "    cost_to_come = fill(typemax(eltype(grid)), size(grid))\n",
    "    cost_to_come[1, 1] = 0\n",
    "    queue = PriorityQueue(CartesianIndex(1, 1) => 0)\n",
    "    while (v = dequeue!(queue)) != last(CartesianIndices(grid))\n",
    "        for n in neighbors\n",
    "            if v + n in CartesianIndices(grid) && cost_to_come[v] + grid[v+n] < cost_to_come[v+n]\n",
    "                cost_to_come[v+n] = cost_to_come[v] + grid[v+n]\n",
    "                queue[v+n] = cost_to_come[v+n]\n",
    "            end\n",
    "        end\n",
    "    end\n",
    "    cost_to_come[end, end]\n",
    "end\n",
    "\n",
    "min_risk_path(grid), min_risk_path(hvcat(5, [mod.(grid .+ i .+ j, (1:9,)) for i in 0:4, j in 0:4]...))"
   ]
  },
  {
   "cell_type": "markdown",
   "metadata": {},
   "source": [
    "## [Day 16: Packet Decoder](https://adventofcode.com/2021/day/16)"
   ]
  },
  {
   "cell_type": "code",
   "execution_count": 32,
   "metadata": {},
   "outputs": [
    {
     "data": {
      "text/plain": [
       "((981, Bool[0, 0, 0, 0, 0, 0]), (299227024091, Bool[0, 0, 0, 0, 0, 0]))"
      ]
     },
     "execution_count": 32,
     "metadata": {},
     "output_type": "execute_result"
    }
   ],
   "source": [
    "input_16 = readline(\"16.txt\")\n",
    "bits = vec(permutedims(hcat([(1 << i) .& hex2bytes(input_16) .!= 0 for i in 7:-1:0]...)))\n",
    "\n",
    "bits_to_int(bits) = sum((2 .^ (length(bits)-1:-1:0))[bits])\n",
    "\n",
    "function parse_packet(bits, sum_version_numbers = true)\n",
    "    reduction_map = Dict(\n",
    "        0 => sum,\n",
    "        1 => prod,\n",
    "        2 => minimum,\n",
    "        3 => maximum,\n",
    "        5 => x -> Int(x[1] > x[2]),\n",
    "        6 => x -> Int(x[1] < x[2]),\n",
    "        7 => x -> Int(x[1] == x[2]),\n",
    "    )\n",
    "\n",
    "    version = bits_to_int(bits[1:3])\n",
    "    type_id = bits_to_int(bits[4:6])\n",
    "    if type_id == 4\n",
    "        literal = 0\n",
    "        local i\n",
    "        for outer i in 7:5:length(bits)\n",
    "            literal <<= 4\n",
    "            literal += bits_to_int(bits[i+1:i+4])\n",
    "            !bits[i] && break\n",
    "        end\n",
    "        return sum_version_numbers ? version : literal, bits[i+5:end]\n",
    "    end\n",
    "\n",
    "    reduction = reduction_map[type_id]\n",
    "    length_type = bits[7]\n",
    "    if length_type\n",
    "        num_sub_packets = bits_to_int(bits[8:18])\n",
    "        bits = bits[19:end]\n",
    "        values = Int[]\n",
    "        for _ in 1:num_sub_packets\n",
    "            v, bits = parse_packet(bits, sum_version_numbers)\n",
    "            push!(values, v)\n",
    "        end\n",
    "        return sum_version_numbers ? version + sum(values) : reduction(values), bits\n",
    "    else\n",
    "        bit_length_sub_packets = bits_to_int(bits[8:22])\n",
    "        bits = bits[23:end]\n",
    "        values = Int[]\n",
    "        starting_num_bits = length(bits)\n",
    "        while starting_num_bits - length(bits) < bit_length_sub_packets\n",
    "            v, bits = parse_packet(bits, sum_version_numbers)\n",
    "            push!(values, v)\n",
    "        end\n",
    "        return sum_version_numbers ? version + sum(values) : reduction(values), bits\n",
    "    end\n",
    "end\n",
    "\n",
    "parse_packet(bits), parse_packet(bits, false)"
   ]
  },
  {
   "cell_type": "markdown",
   "metadata": {},
   "source": [
    "## [Day 17: Trick Shot](https://adventofcode.com/2021/day/17)"
   ]
  },
  {
   "cell_type": "code",
   "execution_count": 33,
   "metadata": {},
   "outputs": [
    {
     "name": "stdout",
     "output_type": "stream",
     "text": [
      "input_17 = readline(\"17.txt\") = \"target area: x=179..201, y=-109..-63\"\n"
     ]
    },
    {
     "data": {
      "text/plain": [
       "5886"
      ]
     },
     "execution_count": 33,
     "metadata": {},
     "output_type": "execute_result"
    }
   ],
   "source": [
    "@show input_17 = readline(\"17.txt\")\n",
    "x_range, y_range =\n",
    "    (r -> parse(Int, r[1]):parse(Int, r[2])).(split.(split(input_17[findfirst('=', input_17)+1:end], \", y=\"), \"..\"))\n",
    "\n",
    "sum(1:abs(y_range.start)-1)"
   ]
  },
  {
   "cell_type": "code",
   "execution_count": 34,
   "metadata": {},
   "outputs": [
    {
     "data": {
      "text/plain": [
       "1806"
      ]
     },
     "execution_count": 34,
     "metadata": {},
     "output_type": "execute_result"
    }
   ],
   "source": [
    "function count_feasible_velocity_values(x_range, y_range)\n",
    "    n = 0\n",
    "    for x_vel in 1:x_range.stop\n",
    "        for y_vel in y_range.start:abs(y_range.start)-1\n",
    "            x = y = 0\n",
    "            xv, yv = x_vel, y_vel\n",
    "            while y >= y_range.start\n",
    "                x += xv\n",
    "                y += yv\n",
    "                xv = max(xv - 1, 0)\n",
    "                yv -= 1\n",
    "                if x in x_range && y in y_range\n",
    "                    n += 1\n",
    "                    break\n",
    "                end\n",
    "            end\n",
    "        end\n",
    "    end\n",
    "    n\n",
    "end\n",
    "\n",
    "count_feasible_velocity_values(x_range, y_range)"
   ]
  },
  {
   "cell_type": "markdown",
   "metadata": {},
   "source": [
    "## [Day 18: Snailfish](https://adventofcode.com/2021/day/18)"
   ]
  },
  {
   "cell_type": "code",
   "execution_count": 35,
   "metadata": {},
   "outputs": [
    {
     "data": {
      "text/plain": [
       "(3411, 4680)"
      ]
     },
     "execution_count": 35,
     "metadata": {},
     "output_type": "execute_result"
    }
   ],
   "source": [
    "struct SnailfishNumber\n",
    "    l::Vector{Tuple{Int,Int}}\n",
    "\n",
    "    function SnailfishNumber(l)\n",
    "        l = copy(l)\n",
    "        while true\n",
    "            e = findfirst(x -> x[1] > 4, l)\n",
    "            if e !== nothing\n",
    "                d, v1 = l[e]\n",
    "                _, v2 = l[e+1]\n",
    "                if e - 1 in 1:length(l)\n",
    "                    l[e-1] = (l[e-1][1], l[e-1][2] + v1)\n",
    "                end\n",
    "                if e + 2 in 1:length(l)\n",
    "                    l[e+2] = (l[e+2][1], l[e+2][2] + v2)\n",
    "                end\n",
    "                deleteat!(l, e)\n",
    "                l[e] = (d - 1, 0)\n",
    "                continue\n",
    "            end\n",
    "            s = findfirst(x -> x[2] >= 10, l)\n",
    "            if s !== nothing\n",
    "                d, v = l[s]\n",
    "                l[s] = (d + 1, ceil(Int, v / 2))\n",
    "                insert!(l, s, (d + 1, floor(Int, v / 2)))\n",
    "                continue\n",
    "            end\n",
    "            break\n",
    "        end\n",
    "        new(l)\n",
    "    end\n",
    "end\n",
    "\n",
    "function SnailfishNumber(s::String)\n",
    "    l = Tuple{Int,Int}[]\n",
    "    d = 0\n",
    "    for c in s\n",
    "        if c == '['\n",
    "            d += 1\n",
    "        elseif c == ']'\n",
    "            d -= 1\n",
    "        elseif c != ','\n",
    "            push!(l, (d, parse(Int, c)))\n",
    "        end\n",
    "    end\n",
    "    SnailfishNumber(l)\n",
    "end\n",
    "\n",
    "function Base.:+(s1::SnailfishNumber, s2::SnailfishNumber)\n",
    "    SnailfishNumber([[(d + 1, v) for (d, v) in s1.l]; [(d + 1, v) for (d, v) in s2.l]])\n",
    "end\n",
    "\n",
    "function magnitude(s::SnailfishNumber)\n",
    "    l = copy(s.l)\n",
    "    while length(l) > 1\n",
    "        i = argmax(first.(l))\n",
    "        d, v1 = l[i]\n",
    "        _, v2 = l[i+1]\n",
    "        deleteat!(l, i)\n",
    "        l[i] = (d - 1, 3 * v1 + 2 * v2)\n",
    "    end\n",
    "    only(l)[2]\n",
    "end\n",
    "\n",
    "snailfish_numbers = [SnailfishNumber(s) for s in readlines(\"18.txt\")]\n",
    "\n",
    "(\n",
    "    magnitude(foldl(+, snailfish_numbers)),\n",
    "    maximum(\n",
    "        max(\n",
    "            magnitude(snailfish_numbers[i] + snailfish_numbers[j]),\n",
    "            magnitude(snailfish_numbers[j] + snailfish_numbers[i]),\n",
    "        ) for i in 1:length(snailfish_numbers) for j in i+1:length(snailfish_numbers)\n",
    "    ),\n",
    ")"
   ]
  },
  {
   "cell_type": "markdown",
   "metadata": {},
   "source": [
    "## [Day 19: Beacon Scanner](https://adventofcode.com/2021/day/19)"
   ]
  },
  {
   "cell_type": "code",
   "execution_count": 36,
   "metadata": {},
   "outputs": [],
   "source": [
    "using LinearAlgebra\n",
    "using StaticArrays"
   ]
  },
  {
   "cell_type": "code",
   "execution_count": 37,
   "metadata": {},
   "outputs": [
    {
     "data": {
      "text/plain": [
       "(342, 9668)"
      ]
     },
     "execution_count": 37,
     "metadata": {},
     "output_type": "execute_result"
    }
   ],
   "source": [
    "input_19 = push!(readlines(\"19.txt\"), \"\")\n",
    "scanners = [\n",
    "    (x -> SVector{3}(parse.(Int, split(x, ',')))).(input_19[s+1:e-1]) for\n",
    "    (s, e) in zip(findall(contains(\"scanner\"), input_19), findall(==(\"\"), input_19))\n",
    "]\n",
    "\n",
    "rotations = filter!(\n",
    "    x -> det(x) == 1,\n",
    "    [\n",
    "        SMatrix{3,3}(I)[:, SVector(permutation)] .* (-1) .^ SVector(Tuple(signs)) for\n",
    "        permutation in ((1, 2, 3), (1, 3, 2), (2, 1, 3), (2, 3, 1), (3, 1, 2), (3, 2, 1)) for\n",
    "        signs in CartesianIndices((2, 2, 2))\n",
    "    ],\n",
    ")\n",
    "\n",
    "function align_scanner(reference_scanner, scanner, rotations)\n",
    "    reference_set = Set(reference_scanner)\n",
    "    for R in rotations\n",
    "        rotated_scanner = (R,) .* scanner\n",
    "        for r in reference_scanner[12:end]\n",
    "            for o in rotated_scanner\n",
    "                translation = r - o\n",
    "                aligned_scanner = rotated_scanner .+ (translation,)\n",
    "                if count(in(reference_set), aligned_scanner) >= 12\n",
    "                    return aligned_scanner, translation\n",
    "                end\n",
    "            end\n",
    "        end\n",
    "    end\n",
    "end\n",
    "\n",
    "function align_scanners(scanners, rotations)\n",
    "    aligned_scanners = [(scanners[1], zeros(SVector{3,Int}))]\n",
    "    unaligned_scanners = scanners[2:end]\n",
    "    for i in 1:length(scanners)\n",
    "        a, _ = aligned_scanners[i]\n",
    "        still_unaligned_scanners = eltype(unaligned_scanners)[]\n",
    "        for u in unaligned_scanners\n",
    "            if (aligned_scanner = align_scanner(a, u, rotations)) !== nothing\n",
    "                push!(aligned_scanners, aligned_scanner)\n",
    "            else\n",
    "                push!(still_unaligned_scanners, u)\n",
    "            end\n",
    "        end\n",
    "        unaligned_scanners = still_unaligned_scanners\n",
    "    end\n",
    "    aligned_scanners\n",
    "end\n",
    "\n",
    "aligned_scanners = align_scanners(scanners, rotations)\n",
    "beacon_locations = unique(vcat(first.(aligned_scanners)...))\n",
    "scanner_locations = last.(aligned_scanners)\n",
    "length(beacon_locations), maximum(sum(abs.(a .- b)) for a in scanner_locations for b in scanner_locations)"
   ]
  },
  {
   "cell_type": "markdown",
   "metadata": {},
   "source": [
    "## [Day 20: Trench Map](https://adventofcode.com/2021/day/20)"
   ]
  },
  {
   "cell_type": "code",
   "execution_count": 38,
   "metadata": {},
   "outputs": [
    {
     "data": {
      "text/plain": [
       "(5425, 14052)"
      ]
     },
     "execution_count": 38,
     "metadata": {},
     "output_type": "execute_result"
    }
   ],
   "source": [
    "input_20 = readlines(\"20.txt\")\n",
    "output_map = permutedims(reshape([c == '#' for c in input_20[1]], [2 for _ in 1:9]...), 9:-1:1)\n",
    "image = hcat((x -> [c == '#' for c in x]).(input_20[3:end])...)\n",
    "\n",
    "function enhance(image, output_map, pad = falses)\n",
    "    padded_image = pad(size(image) .+ 4)\n",
    "    padded_image[3:end-2, 3:end-2] = image\n",
    "    [\n",
    "        output_map[Tuple(padded_image[P+I-CartesianIndex(1, 1)] + 1 for I in CartesianIndices((3, 3)))...] for\n",
    "        P in CartesianIndices(size(image) .+ 2)\n",
    "    ]\n",
    "end\n",
    "\n",
    "sum(enhance(enhance(image, output_map), output_map, trues)),\n",
    "sum(foldl((image, i) -> enhance(image, output_map, isodd(i) ? falses : trues), 1:50; init = image))"
   ]
  },
  {
   "cell_type": "markdown",
   "metadata": {},
   "source": [
    "## [Day 21: Dirac Dice](https://adventofcode.com/2021/day/21)"
   ]
  },
  {
   "cell_type": "code",
   "execution_count": 39,
   "metadata": {},
   "outputs": [],
   "source": [
    "using StatsBase"
   ]
  },
  {
   "cell_type": "code",
   "execution_count": 40,
   "metadata": {},
   "outputs": [
    {
     "data": {
      "text/plain": [
       "(1002474, 919758187195363)"
      ]
     },
     "execution_count": 40,
     "metadata": {},
     "output_type": "execute_result"
    }
   ],
   "source": [
    "p1, p2 = (l -> parse.(Int, l[end])).(readlines(\"21.txt\"))\n",
    "\n",
    "function deterministic_dice(p1, p2)\n",
    "    s1 = s2 = 0\n",
    "    for r in 1:Int(1e9)\n",
    "        m = mod(r, 1:6)\n",
    "        if m <= 3\n",
    "            p1 += r\n",
    "            if m == 3\n",
    "                p1 = mod(p1, 1:10)\n",
    "                s1 += p1\n",
    "                s1 >= 1000 && return s2 * r\n",
    "            end\n",
    "        else\n",
    "            p2 += r\n",
    "            if m == 6\n",
    "                p2 = mod(p2, 1:10)\n",
    "                s2 += p2\n",
    "                s2 >= 1000 && return s1 * r\n",
    "            end\n",
    "        end\n",
    "    end\n",
    "end\n",
    "\n",
    "function dirac_dice(p1, p2)\n",
    "    outcomes = counts([sum(Tuple(I)) for I in CartesianIndices((3, 3, 3))])\n",
    "    live_universes = Dict((true, p1, p2, 0, 0) => 1)\n",
    "    done_universes = typeof(live_universes)()\n",
    "    while !isempty(live_universes)\n",
    "        universe, count = pop!(live_universes)\n",
    "        p, p1, p2, s1, s2 = universe\n",
    "        for (i, c) in enumerate(outcomes)\n",
    "            if p\n",
    "                new_p1 = mod(p1 + i + 2, 1:10)\n",
    "                new_s1 = s1 + new_p1\n",
    "                new_universe = Dict((!p, new_p1, p2, new_s1, s2) => count * c)\n",
    "                mergewith!(+, new_s1 >= 21 ? done_universes : live_universes, new_universe)\n",
    "            else\n",
    "                new_p2 = mod(p2 + i + 2, 1:10)\n",
    "                new_s2 = s2 + new_p2\n",
    "                new_universe = Dict((!p, p1, new_p2, s1, new_s2) => count * c)\n",
    "                mergewith!(+, new_s2 >= 21 ? done_universes : live_universes, new_universe)\n",
    "            end\n",
    "        end\n",
    "    end\n",
    "\n",
    "    max(sum(c for (k, c) in done_universes if k[1]), sum(c for (k, c) in done_universes if !k[1]))\n",
    "end\n",
    "\n",
    "deterministic_dice(p1, p2), dirac_dice(p1, p2)"
   ]
  },
  {
   "cell_type": "markdown",
   "metadata": {},
   "source": [
    "## [Day 22: Reactor Reboot](https://adventofcode.com/2021/day/22)"
   ]
  },
  {
   "cell_type": "code",
   "execution_count": 41,
   "metadata": {},
   "outputs": [
    {
     "data": {
      "text/plain": [
       "(583641, 1182153534186233)"
      ]
     },
     "execution_count": 41,
     "metadata": {},
     "output_type": "execute_result"
    }
   ],
   "source": [
    "input_22 = readlines(\"22.txt\")\n",
    "instructions = (x -> (x[1] == \"on\", (s -> parse.(Int, split(s[3:end], \"..\"))).(split(x[2], ',')))).(split.(input_22))\n",
    "\n",
    "function count_on_cells(instructions)\n",
    "    bounds = reduce(hcat, reduce.(vcat, last.(instructions)))\n",
    "    bounds = [bounds (bounds .+ 1)]\n",
    "    x_bounds = sort(unique(bounds[1:2, :]))\n",
    "    y_bounds = sort(unique(bounds[3:4, :]))\n",
    "    z_bounds = sort(unique(bounds[5:6, :]))\n",
    "    x_to_i = Dict(x => i for (i, x) in enumerate(x_bounds))\n",
    "    y_to_i = Dict(y => i for (i, y) in enumerate(y_bounds))\n",
    "    z_to_i = Dict(z => i for (i, z) in enumerate(z_bounds))\n",
    "\n",
    "    A = falses(length(x_bounds), length(y_bounds), length(z_bounds))\n",
    "    for (o, c) in instructions\n",
    "        x, y, z = c\n",
    "        A[x_to_i[x[1]]:x_to_i[x[2]], y_to_i[y[1]]:y_to_i[y[2]], z_to_i[z[1]]:z_to_i[z[2]]] .= o\n",
    "    end\n",
    "    dx, dy, dz = diff.((x_bounds, y_bounds, z_bounds))\n",
    "    sum(dx[I[1]] * dy[I[2]] * dz[I[3]] for I in CartesianIndices(A) if A[I])\n",
    "end\n",
    "\n",
    "count_on_cells(instructions[1:findfirst(x -> !(x[2][1][1] in -50:50), instructions)-1]), count_on_cells(instructions)"
   ]
  },
  {
   "cell_type": "markdown",
   "metadata": {},
   "source": [
    "## [Day 23: Amphipod](https://adventofcode.com/2021/day/23)"
   ]
  },
  {
   "cell_type": "code",
   "execution_count": 42,
   "metadata": {},
   "outputs": [],
   "source": [
    "import Base.setindex\n",
    "using DataStructures"
   ]
  },
  {
   "cell_type": "code",
   "execution_count": 43,
   "metadata": {},
   "outputs": [
    {
     "data": {
      "text/plain": [
       "(16508, 43626)"
      ]
     },
     "execution_count": 43,
     "metadata": {},
     "output_type": "execute_result"
    }
   ],
   "source": [
    "input_23 = readlines(\"23.txt\")\n",
    "rooms = tuple((r .- 'A' for r in zip(input_23[3][4:2:10], input_23[4][4:2:10]))...)\n",
    "\n",
    "make_state(rooms) = (ntuple(_ -> -1, Val(11)), rooms)\n",
    "\n",
    "function neighbors(state)\n",
    "    stopping_spots = (1, 2, 4, 6, 8, 10, 11)\n",
    "    hallway, rooms = state\n",
    "    room_size = length(rooms[1])\n",
    "    neighbors = typeof((state, 0))[]\n",
    "    for s in stopping_spots\n",
    "        v = hallway[s]\n",
    "        if v >= 0\n",
    "            r = v + 1\n",
    "            t = 2 * r + 1\n",
    "            if all(h == s || hallway[h] < 0 for h in range(minmax(s, t)...))\n",
    "                for d in 1:room_size\n",
    "                    if rooms[r] == ntuple(i -> i <= d ? -1 : v, room_size)\n",
    "                        push!(\n",
    "                            neighbors,\n",
    "                            (\n",
    "                                (setindex(hallway, -1, s), setindex(rooms, setindex(rooms[r], v, d), r)),\n",
    "                                (abs(s - t) + d) * 10^v,\n",
    "                            ),\n",
    "                        )\n",
    "                        break\n",
    "                    end\n",
    "                end\n",
    "            end\n",
    "        end\n",
    "    end\n",
    "    for (r, room) in enumerate(rooms)\n",
    "        t = 2 * r + 1\n",
    "        for (d, v) in enumerate(room)\n",
    "            if v >= 0\n",
    "                for s in stopping_spots\n",
    "                    if all(hallway[h] < 0 for h in range(minmax(s, t)...))\n",
    "                        push!(\n",
    "                            neighbors,\n",
    "                            (\n",
    "                                (setindex(hallway, v, s), setindex(rooms, setindex(rooms[r], -1, d), r)),\n",
    "                                (abs(s - t) + d) * 10^v,\n",
    "                            ),\n",
    "                        )\n",
    "                    end\n",
    "                end\n",
    "                break\n",
    "            end\n",
    "        end\n",
    "    end\n",
    "    neighbors\n",
    "end\n",
    "\n",
    "function organize(rooms)\n",
    "    start_state = make_state(rooms)\n",
    "    final_state = make_state(ntuple(i -> (i - 1) .+ zero.(rooms[1]), 4))\n",
    "\n",
    "    neighbor_dict = DefaultDict{typeof(start_state),Vector{typeof((start_state, 0))}}(neighbors; passkey = true)\n",
    "    cost_to_come = DefaultDict{typeof(start_state),Int}(typemax(Int))\n",
    "    cost_to_come[start_state] = 0\n",
    "    queue = PriorityQueue(start_state => 0)\n",
    "    while (s = dequeue!(queue)) != final_state\n",
    "        c = cost_to_come[s]\n",
    "        for (n, d) in neighbor_dict[s]\n",
    "            if c + d < cost_to_come[n]\n",
    "                cost_to_come[n] = c + d\n",
    "                queue[n] = cost_to_come[n]\n",
    "            end\n",
    "        end\n",
    "    end\n",
    "    cost_to_come[final_state]\n",
    "end\n",
    "\n",
    "organize(rooms),\n",
    "organize((\n",
    "    (rooms[1][1], 3, 3, rooms[1][2]),\n",
    "    (rooms[2][1], 2, 1, rooms[2][2]),\n",
    "    (rooms[3][1], 1, 0, rooms[3][2]),\n",
    "    (rooms[4][1], 0, 2, rooms[4][2]),\n",
    "))"
   ]
  },
  {
   "cell_type": "markdown",
   "metadata": {},
   "source": [
    "## [Day 24: Arithmetic Logic Unit](https://adventofcode.com/2021/day/24)"
   ]
  },
  {
   "cell_type": "code",
   "execution_count": 44,
   "metadata": {},
   "outputs": [
    {
     "data": {
      "text/plain": [
       "process_all_blocks (generic function with 1 method)"
      ]
     },
     "execution_count": 44,
     "metadata": {},
     "output_type": "execute_result"
    }
   ],
   "source": [
    "input_24 = readlines(\"24.txt\")\n",
    "c5s = parse.(Int, last.(split.(input_24[5:18:end])))\n",
    "c6s = parse.(Int, last.(split.(input_24[6:18:end])))\n",
    "c16s = parse.(Int, last.(split.(input_24[16:18:end])))\n",
    "cs = collect(zip(c5s, c6s, c16s))\n",
    "\n",
    "function process_block((x, y, z), (w, c5, c6, c16))\n",
    "    x = !(z % 26 + c6 == w)\n",
    "    y = (w + c16) * x\n",
    "    z = (25 * x + 1) * div(z, c5) + y\n",
    "    (Int(x), y, z)\n",
    "end\n",
    "\n",
    "function process_all_blocks(ws, cs)\n",
    "    x = y = z = d = 0\n",
    "    for (w, (c5, c6, c16)) in zip(ws, cs)\n",
    "        d -= (c5 == 26)\n",
    "        print(\"    \"^d, (w, z % 26 + c6, c5 == 1 ? c16 : c6), \" \")\n",
    "        (x, y, z) = process_block((x, y, z), (w, c5, c6, c16))\n",
    "        println(digits(z; base = 26))\n",
    "        d += (c5 == 1)\n",
    "    end\n",
    "    z\n",
    "end"
   ]
  },
  {
   "cell_type": "code",
   "execution_count": 45,
   "metadata": {},
   "outputs": [
    {
     "name": "stdout",
     "output_type": "stream",
     "text": [
      "96299896449997\n",
      "(9, 10, 12) [21]\n",
      "    (6, 33, 7) [13, 21]\n",
      "        (2, 23, 8) [10, 13, 21]\n",
      "            (9, 22, 8) [17, 10, 13, 21]\n",
      "                (9, 28, 15) [24, 17, 10, 13, 21]\n",
      "                (8, 8, -16) [17, 10, 13, 21]\n",
      "                (9, 27, 8) [17, 17, 10, 13, 21]\n",
      "                (6, 6, -11) [17, 10, 13, 21]\n",
      "            (4, 4, -13) [10, 13, 21]\n",
      "            (4, 23, 13) [17, 10, 13, 21]\n",
      "            (9, 9, -8) [10, 13, 21]\n",
      "        (9, 9, -1) [13, 21]\n",
      "    (9, 9, -4) [21]\n",
      "(7, 7, -14) [0]\n"
     ]
    },
    {
     "data": {
      "text/plain": [
       "0"
      ]
     },
     "execution_count": 45,
     "metadata": {},
     "output_type": "execute_result"
    }
   ],
   "source": [
    "ws = [\n",
    "    9,\n",
    "        6,\n",
    "            2,\n",
    "                9,\n",
    "                    9, 8,\n",
    "                    9, 6,\n",
    "                4,\n",
    "                    4, 9,\n",
    "            9,\n",
    "        9,\n",
    "    7\n",
    "]\n",
    "foreach(print, ws); println()\n",
    "process_all_blocks(ws, cs)"
   ]
  },
  {
   "cell_type": "code",
   "execution_count": 46,
   "metadata": {},
   "outputs": [
    {
     "name": "stdout",
     "output_type": "stream",
     "text": [
      "31162141116841\n",
      "(3, 10, 12) [15]\n",
      "    (1, 27, 7) [8, 15]\n",
      "        (1, 18, 8) [9, 8, 15]\n",
      "            (6, 21, 8) [14, 9, 8, 15]\n",
      "                (2, 25, 15) [17, 14, 9, 8, 15]\n",
      "                (1, 1, -16) [14, 9, 8, 15]\n",
      "                (4, 24, 8) [12, 14, 9, 8, 15]\n",
      "                (1, 1, -11) [14, 9, 8, 15]\n",
      "            (1, 1, -13) [9, 8, 15]\n",
      "            (1, 22, 13) [14, 9, 8, 15]\n",
      "            (6, 6, -8) [9, 8, 15]\n",
      "        (8, 8, -1) [8, 15]\n",
      "    (4, 4, -4) [15]\n",
      "(1, 1, -14) [0]\n"
     ]
    },
    {
     "data": {
      "text/plain": [
       "0"
      ]
     },
     "execution_count": 46,
     "metadata": {},
     "output_type": "execute_result"
    }
   ],
   "source": [
    "ws = [\n",
    "    3,\n",
    "        1,\n",
    "            1,\n",
    "                6,\n",
    "                    2, 1,\n",
    "                    4, 1,\n",
    "                1,\n",
    "                    1, 6,\n",
    "            8,\n",
    "        4,\n",
    "    1\n",
    "]\n",
    "foreach(print, ws); println()\n",
    "process_all_blocks(ws, cs)"
   ]
  },
  {
   "cell_type": "markdown",
   "metadata": {},
   "source": [
    "## [Day 25: Sea Cucumber](https://adventofcode.com/2021/day/25)"
   ]
  },
  {
   "cell_type": "code",
   "execution_count": 47,
   "metadata": {},
   "outputs": [
    {
     "data": {
      "text/plain": [
       "523"
      ]
     },
     "execution_count": 47,
     "metadata": {},
     "output_type": "execute_result"
    }
   ],
   "source": [
    "input_25 = readlines(\"25.txt\")\n",
    "seafloor = permutedims(reduce(hcat, collect.(input_25)))\n",
    "\n",
    "function step_cucumbers(seafloor)\n",
    "    seafloor_east = circshift(seafloor, (0, 1))\n",
    "    seafloor_west = circshift(seafloor, (0, -1))\n",
    "    seafloor =\n",
    "        ifelse.(\n",
    "            seafloor_east .== '>' .&& seafloor .== '.',\n",
    "            seafloor_east,\n",
    "            ifelse.(seafloor .== '>' .&& seafloor_west .== '.', '.', seafloor),\n",
    "        )\n",
    "    seafloor_south = circshift(seafloor, (1, 0))\n",
    "    seafloor_north = circshift(seafloor, (-1, 0))\n",
    "    ifelse.(\n",
    "        seafloor_south .== 'v' .&& seafloor .== '.',\n",
    "        seafloor_south,\n",
    "        ifelse.(seafloor .== 'v' .&& seafloor_north .== '.', '.', seafloor),\n",
    "    )\n",
    "end\n",
    "\n",
    "function stop_cucumbers(seafloor)\n",
    "    for i in 1:typemax(Int)\n",
    "        new_seafloor = step_cucumbers(seafloor)\n",
    "        new_seafloor == seafloor && return i\n",
    "        seafloor = new_seafloor\n",
    "    end\n",
    "end\n",
    "\n",
    "stop_cucumbers(seafloor)"
   ]
  }
 ],
 "metadata": {
  "kernelspec": {
   "display_name": "Julia 1.7.1",
   "language": "julia",
   "name": "julia-1.7"
  },
  "language_info": {
   "file_extension": ".jl",
   "mimetype": "application/julia",
   "name": "julia",
   "version": "1.7.1"
  }
 },
 "nbformat": 4,
 "nbformat_minor": 4
}
